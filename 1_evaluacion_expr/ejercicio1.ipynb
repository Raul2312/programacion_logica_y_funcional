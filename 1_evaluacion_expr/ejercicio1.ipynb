{
 "cells": [
  {
   "cell_type": "markdown",
   "id": "f4315306",
   "metadata": {},
   "source": [
    "# Ejercicio 1\n",
    "Ejercicio 1 de evaluacion de expresiones en Phyton\n",
    "\n",
    "$ \\frac {\\pi ^ 2 }{6}= \\sum_{n-1}^{\\infty} \\frac{1}{n ^ 2} $"
   ]
  },
  {
   "cell_type": "code",
   "execution_count": 2,
   "id": "fa0c3c0e",
   "metadata": {},
   "outputs": [
    {
     "name": "stdout",
     "output_type": "stream",
     "text": [
      "Valor teorico: 1.6449340668482264, Aproximacion: 1.644433941827396\n",
      "ERROR: 0.0005001250208302999\n"
     ]
    }
   ],
   "source": [
    "import math\n",
    "res = math.pi**2 / 6\n",
    "res2=0\n",
    "for n in range (1,2000):\n",
    "    res2+=1/(n**2)\n",
    "print(f\"Valor teorico: {res}, Aproximacion: {res2}\")\n",
    "error= abs(res-res2)\n",
    "print(f\"ERROR: {error}\")"
   ]
  },
  {
   "cell_type": "markdown",
   "id": "e32430d3",
   "metadata": {},
   "source": [
    "### Expresion 1\n"
   ]
  },
  {
   "cell_type": "code",
   "execution_count": 6,
   "id": "04e8d69e",
   "metadata": {},
   "outputs": [
    {
     "name": "stdout",
     "output_type": "stream",
     "text": [
      "19\n"
     ]
    }
   ],
   "source": [
    "import math\n",
    "resultado = 3 + 4 * 2 ** 2\n",
    "print(resultado) #Cual crees que es el resultado ?"
   ]
  },
  {
   "cell_type": "markdown",
   "id": "345df34d",
   "metadata": {},
   "source": [
    "### Expresion 1 ejercicios\n",
    "\n",
    "\n",
    "-Ya que tenemos parentesis resolvemos la operacion dentro de los parentesis  primero y nos da 6\n",
    "-Despues ese resultado lo multiplicamos por 4"
   ]
  },
  {
   "cell_type": "code",
   "execution_count": 18,
   "id": "c596a1c7",
   "metadata": {},
   "outputs": [
    {
     "name": "stdout",
     "output_type": "stream",
     "text": [
      "20\n"
     ]
    }
   ],
   "source": [
    "import math\n",
    "resultado =(3 + 2) * 4 \n",
    "print(resultado)"
   ]
  },
  {
   "cell_type": "markdown",
   "id": "11efa46b",
   "metadata": {},
   "source": [
    "### Expresion 2\n",
    "-Al no tener parentesis se realiza primero la potencia  \" ** \" , 3 ** 2 = 9\n",
    "-Multiplicamos 2 por el resultado \" 2 * 9 = 18\n",
    "-El reultado es 18\n"
   ]
  },
  {
   "cell_type": "code",
   "execution_count": 23,
   "id": "55303ef8",
   "metadata": {},
   "outputs": [
    {
     "name": "stdout",
     "output_type": "stream",
     "text": [
      "18\n"
     ]
    }
   ],
   "source": [
    "import math\n",
    "resultado =  2 * 3 ** 2\n",
    "print(resultado)"
   ]
  },
  {
   "cell_type": "markdown",
   "id": "eac70635",
   "metadata": {},
   "source": [
    "### Expresion 3\n",
    "-Como no tenemos parentesis se realizan las operaciones de izquierda a derecha \n",
    "-Primero 10 // 3 , el resultado es 3.3333 pero como tenemos el signo \" // \" se redondea a 3 \n",
    "-Despues sumamos 3 + 2 \n",
    "-El resultado es 5"
   ]
  },
  {
   "cell_type": "code",
   "execution_count": 24,
   "id": "08fc4091",
   "metadata": {},
   "outputs": [
    {
     "name": "stdout",
     "output_type": "stream",
     "text": [
      "5\n"
     ]
    }
   ],
   "source": [
    "import math\n",
    "resultado =10 // 3 + 2\n",
    "print(resultado)"
   ]
  },
  {
   "cell_type": "markdown",
   "id": "d7d2f8c7",
   "metadata": {},
   "source": [
    "### Expresion 4\n",
    "-Como no tenemos parentesis se realizan las operaciones de izquierda a derecha \n",
    "-Primero realizamos la operacion de modulo que seria 17 % 5 que el signo \"%\" divide 17 / 5 = 3.4 pero no toma los decimales del resultafo lo cual seria 3\n",
    "-Despues el resultado de esa operacion se multiplica de nuevo por el segundo numero \"5\" que es igual a 15\n",
    "-Al primer numero se le resta el resultado de la operacion \"15\" lo que nos da = 2\n",
    "-Por ultimo se sigue con la multiplicacion 2 * 2 \n",
    "-El resultado es 4"
   ]
  },
  {
   "cell_type": "code",
   "execution_count": 26,
   "id": "13a21762",
   "metadata": {},
   "outputs": [
    {
     "name": "stdout",
     "output_type": "stream",
     "text": [
      "4\n"
     ]
    }
   ],
   "source": [
    "import math\n",
    "resultado =17 % 5 * 2\n",
    "print(resultado)"
   ]
  },
  {
   "cell_type": "markdown",
   "id": "ffd45576",
   "metadata": {},
   "source": [
    "### Expresion 5\n",
    "-Al no tener parentesis en el numero al que se quiere realizar la potencia se realiza la potencia primero\n",
    "-El numero 2 lo elevamos al cuadrado que seria 4\n",
    "-Despues solo se agrega el signo del elevado que seria -\n",
    "-El resultado es = -4 "
   ]
  },
  {
   "cell_type": "code",
   "execution_count": null,
   "id": "abe569b7",
   "metadata": {},
   "outputs": [
    {
     "name": "stdout",
     "output_type": "stream",
     "text": [
      "4\n"
     ]
    }
   ],
   "source": [
    "import math\n",
    "resultado =-2 ** 2\n",
    "print(resultado)"
   ]
  },
  {
   "cell_type": "markdown",
   "id": "bf29d821",
   "metadata": {},
   "source": [
    "### Expresion 6\n",
    "-Primero realizamos la potencia que seria 2 ** 2 da commo resultado = 4\n",
    "-Enseguida al ya no tener parentesis la siguiente operacion seria 4 * 4 = 16\n",
    "-Despues seria la division de 16 // 3 = 5.3333 pero al tener el signo // redondea a 5 \n",
    "-Por ultimo simamos 3 + 5 \n",
    "-El resultado es 8"
   ]
  },
  {
   "cell_type": "code",
   "execution_count": 27,
   "id": "41198a5f",
   "metadata": {},
   "outputs": [
    {
     "name": "stdout",
     "output_type": "stream",
     "text": [
      "8\n"
     ]
    }
   ],
   "source": [
    "import math\n",
    "resultado =3 + 4 * 2 ** 2 // 3\n",
    "print(resultado)"
   ]
  },
  {
   "cell_type": "markdown",
   "id": "abdf3499",
   "metadata": {},
   "source": [
    "### Expresion 7 \n",
    "-Al no tener parentesis se empieza verificando las condiciones de izquierda a derecha\n",
    "-3 < 4 al verificar esta condicion nos da \"true\"\n",
    "-Despues analaizamos la condicion de 4 < 5 que da tabien resultado \"true\"\n",
    "-EL resultado es true \n"
   ]
  },
  {
   "cell_type": "code",
   "execution_count": 5,
   "id": "7e857f79",
   "metadata": {},
   "outputs": [
    {
     "name": "stdout",
     "output_type": "stream",
     "text": [
      "True\n"
     ]
    }
   ],
   "source": [
    "import math\n",
    "resultado = 3 < 4 < 5\n",
    "print(resultado)"
   ]
  },
  {
   "cell_type": "markdown",
   "id": "d88cba7c",
   "metadata": {},
   "source": [
    "### Expresion 8\n",
    "-Primero se realiza la condicion de (3 > 2) que nos da de resultado true \n",
    "-Despues la comparacion de (5 < 10) que tambien nos da de resultado true \n",
    "-La condicion de and nos dice que las dos comparacion tienen que ser \"true\" \n",
    "-Al ser las dos comparaciones correctas nos da de reultado +\"true\""
   ]
  },
  {
   "cell_type": "code",
   "execution_count": 28,
   "id": "b399a5d4",
   "metadata": {},
   "outputs": [
    {
     "name": "stdout",
     "output_type": "stream",
     "text": [
      "True\n"
     ]
    }
   ],
   "source": [
    "import math\n",
    "resultado = (3 > 2) and (5 < 10) or False\n",
    "print(resultado)\n"
   ]
  },
  {
   "cell_type": "markdown",
   "id": "31432de4",
   "metadata": {},
   "source": [
    "### Expresion 9\n",
    "-Primero realizamos la operacion de suma de 3 + 1 = 4 y nos queda la siguiente expresion 5 & 4\n",
    "-El signo \"&\" convierte los dos numeros a binario  5= 0101 y 4=0100\n",
    "-Despues realiza una comparacion de cada bit  con la tabla de verdad de \"and\" donde 0101 y 0100 se convierten a = 0100\n",
    "-Por el ultimo este numero lo volvemos a convertir en decimal y da como resultado 4 \n"
   ]
  },
  {
   "cell_type": "code",
   "execution_count": 15,
   "id": "1bca88c4",
   "metadata": {},
   "outputs": [
    {
     "name": "stdout",
     "output_type": "stream",
     "text": [
      "4\n"
     ]
    }
   ],
   "source": [
    "import math\n",
    "resultado = 5 & 3 + 1\n",
    "print(resultado)"
   ]
  },
  {
   "cell_type": "markdown",
   "id": "e771ec35",
   "metadata": {},
   "source": [
    "### Expresion 10\n",
    "-Al tener parentesis la expresion estos se realizan primero (2+3)=5 \n",
    "-(5 % 3) en esta operacion ser realiza la division de los dos numero = 1.666 que redondea a 1 \n",
    "-Despues el resultado se multiplica por el segundo numero en este caso 3 = 3\n",
    "-Enseguida se resta el  resultado al primer numero lo que nos da 2\n",
    "-Despues de divide el 16 de la operacion de la potencia entre 2 lo que nos da 8\n",
    "-y por ultimo se multiplica el resultado del parentesis (2+3) * el 8 \n",
    "-El resultado es 40\n",
    "-Al tener cualquier numero de reultado la expresion arroja \"true\"\n",
    "\n"
   ]
  },
  {
   "cell_type": "code",
   "execution_count": 16,
   "id": "096443dd",
   "metadata": {},
   "outputs": [
    {
     "name": "stdout",
     "output_type": "stream",
     "text": [
      "True\n"
     ]
    }
   ],
   "source": [
    "import math\n",
    "resultado = (2 + 3) * 4 ** 2 // (5 % 3) and not False\n",
    "print(resultado)"
   ]
  },
  {
   "cell_type": "markdown",
   "id": "39ab20c6",
   "metadata": {},
   "source": [
    "### Expresion 11\n",
    "Expresión: expr11 = ((65 & 66) > 70) and not (65 ^ 66) == 0 \n",
    "1. Operadores que intervienen: - & → AND bit a bit - ^ → XOR bit a bit - > → comparación mayor que - == → comparación de igualdad - not → negación lógica - and → operador lógico AND\n",
    "2. Resolver (65 & 66): 65 = 1000001 (binario) 66 = 1000010 (binario) 1000001 & 1000010 = 1000000 (64 en decimal) \n",
    "3. Resolver (65 ^ 66): 65 = 1000001 66 = 1000010 1000001 ^ 1000010 = 0000011 (3 en decimal) \n",
    "4. Sustituir en la expresión: ((65 & 66) > 70) and not (65 ^ 66) == 0 → (64 > 70) and not (3 == 0) \n",
    "5. Resolver comparaciones: 64 > 70 → False 3 == 0 → False → False and not False \n",
    "6. Resolver not: not False → True → False and True 7. Evaluar and: False and True → False Resultado final: expr11 = False\n"
   ]
  },
  {
   "cell_type": "code",
   "execution_count": 29,
   "id": "e6ee1d86",
   "metadata": {},
   "outputs": [
    {
     "name": "stdout",
     "output_type": "stream",
     "text": [
      "False\n"
     ]
    }
   ],
   "source": [
    "import math\n",
    "resultado = ((65 & 66) > 70 ) and not (65 ^ 66) == 0\n",
    "print(resultado)"
   ]
  },
  {
   "cell_type": "markdown",
   "id": "8885f3e7",
   "metadata": {},
   "source": [
    "### JAVA\n"
   ]
  },
  {
   "cell_type": "markdown",
   "id": "42a60a13",
   "metadata": {},
   "source": [
    "### Expresion 1\n",
    "\n",
    "Primero creamos las variables x=10 y b=10\n",
    "imprimimos la variable x con un aumneto de 1 en 1 \n",
    "Al tener los signos ++ despues de la variable el sistema imprime primero la variable y despues la aumenta  pero al no tener otro print el resultado es 10 "
   ]
  },
  {
   "cell_type": "code",
   "execution_count": null,
   "id": "231828f3",
   "metadata": {},
   "outputs": [],
   "source": [
    "class Main {\n",
    "    public static void main(String[] args) {\n",
    "    int x=10;\n",
    "    int b=10;\n",
    "    System.out.println(x++);\n",
    "    }\n",
    "}"
   ]
  },
  {
   "cell_type": "markdown",
   "id": "a47e6c1e",
   "metadata": {},
   "source": [
    "### Expresion 2\n",
    "Primero creamos las variables x=10 y b=10\n",
    "imprimimos \"++x\"\n",
    "Al tener los signos ++ antes  de la variable el sistema aumenta primero la variable  y despues la imprime  la diferiencia con primera expresion es el orden de los signos \n",
    "el resultado es 11"
   ]
  },
  {
   "cell_type": "code",
   "execution_count": null,
   "id": "f9c6522d",
   "metadata": {},
   "outputs": [],
   "source": [
    "class Main {\n",
    "    public static void main(String[] args) {\n",
    "    int x=10;\n",
    "    int b=10;\n",
    "    System.out.println(++x);\n",
    "    }\n",
    "}"
   ]
  },
  {
   "cell_type": "markdown",
   "id": "3b4df300",
   "metadata": {},
   "source": [
    "### Expreion 3 \n",
    "primero realizamos la operacion de b++ * 3 que da de resultado -30 \n",
    "despues realizamos la operacion de -3 % x++ que el signo \"%\" es residuo y da como reultado -3\n",
    "despues comparamos los dos reultados si son iguales  con el signo == \n",
    "comparamos -30 == -3 como no son iguales el sistema retorna false \n",
    "resultado false "
   ]
  },
  {
   "cell_type": "code",
   "execution_count": null,
   "id": "881ae39c",
   "metadata": {},
   "outputs": [],
   "source": [
    "class Main {\n",
    "    public static void main(String[] args) {\n",
    "    int x=10;\n",
    "    int b=10;\n",
    "  System.out.println(b++ * -3 == -3 % x++);\n",
    "    }\n",
    "}"
   ]
  },
  {
   "cell_type": "markdown",
   "id": "dc87e927",
   "metadata": {},
   "source": [
    "### Expresion 4\n",
    "\n",
    "el signo /= solo acepta un valor del lado izquierdo para poder funcionar por lo que tenemos que crear variables para simplificar la expresion \n",
    "1. int a = 30-10    (a /= % ++b + 30 % 7 * 2)\n",
    "2. Despues eliminamos el signo % ya que es un error de sintaxis para el sistema (a /= ++b + 30 % 7 * 2)\n",
    "3.Aumentamos la ++b = 11\n",
    "4. Despues hacemos el modulo de 30 % 7 que seria: 30/7 = 4 y nos sobran 2 remplazamos ese numero por el modulo  (a /= 11 + 2 * 2)\n",
    "5.Despues multiplicamos el 2 * 2 = 4 \n",
    "6.Enseguida hacemos la operacion de 11+4 = 15 y nos quedaria la expresion asi : (a /= 15)\n",
    "7. la variable a tiene el resulatdo de la operacion 30-10 por lo que la variable a es 20  (20 /= 15 ) = 1.333333\n",
    "8.El resultado es 1.333333\n",
    "\n",
    " \n"
   ]
  },
  {
   "cell_type": "code",
   "execution_count": null,
   "id": "c635a131",
   "metadata": {},
   "outputs": [],
   "source": [
    "class Main {\n",
    "    public static void main(String[] args) {\n",
    "    int x=10;\n",
    "    int b=10;\n",
    "    double a=30-10;\n",
    "  System.out.println( a /= ++b + 30 % 7 * 2 );\n",
    "    }\n",
    "}"
   ]
  },
  {
   "cell_type": "markdown",
   "id": "392adeae",
   "metadata": {},
   "source": [
    "### Expresion 5\n",
    "El *= es una expresion compuesta por lo que espera una variable del lado izquierdo para solucionarlo \n",
    "1.Creamos una variable donde introduscamos c=(-50 * x++ * 80 % b / 4)\n",
    "2. resolvemos la expresion primero realizamos el modulo de 80 / 10 = 0 \n",
    "3.multiplicamos -50 * x++ = -500 \n",
    "4.Despues multiplicamos -500 * 0 = 0  sacado del resultado del modulo \n",
    "5.Enseguida dividimos 0 / 4 = 0\n",
    "6. c=0\n",
    "7 Enseguidad resolvemos la operacion c *= 8 (0 * 8)\n",
    "8.EL RESULTADO DE LA EXPRESION ES 0.00\n"
   ]
  },
  {
   "cell_type": "code",
   "execution_count": null,
   "id": "92a8bb81",
   "metadata": {},
   "outputs": [],
   "source": [
    "class Main {\n",
    "    public static void main(String[] args) {\n",
    "    int x=10;\n",
    "    int b=10;\n",
    "    double c= (-50 * x++ * 80 % b / 4);\n",
    "  System.out.println(c *=8 );\n",
    "    }\n",
    "}"
   ]
  },
  {
   "cell_type": "markdown",
   "id": "f26dda2d",
   "metadata": {},
   "source": [
    "### Expresion 6\n",
    "primero se camia el valor de x++ a 10 \n",
    "despues realizamos la division entera de 5/4 que daria 1.25 pero en java se trunca a 1\n",
    "despues realizamos el modulo de 1%-3 para realizar esta epresion \n",
    "Primero dividimos entre 1/-3 = -0.333 que se trrunca a 0 depues multiplicamos por el segundo numero 0 * -3 = 0\n",
    "despues restamos 1-0 = 1 el resultado del modulo es 1\n",
    "despues realizamos la operacion normal (10 - 8 + 3 - 1 + 8)  =12\n",
    "el resultado de esa operaxion se multiplica por b*= 12 (10*12)=120\n",
    "El resultado es 120\n",
    "\n"
   ]
  },
  {
   "cell_type": "code",
   "execution_count": null,
   "id": "3cb65944",
   "metadata": {},
   "outputs": [],
   "source": [
    "class Main {\n",
    "    public static void main(String[] args) {\n",
    "    int x=10;\n",
    "    int b=10;\n",
    "  System.out.println(b*= x++ - 8 + 3 - 5 / 4 % - 3 + 8 );\n",
    "    }\n",
    "}"
   ]
  },
  {
   "cell_type": "markdown",
   "id": "5210b569",
   "metadata": {},
   "source": [
    "### Expresion 7 \n",
    "Primero realizamos la operacion de division entera de 50/30=1.6666 al ser division entera java lo redondea a 1 \n",
    "Despues multiplicamos despues multiplicamos 1* 11 = 11  (x = b *= 1 * 11 + 80)\n",
    "Despues sumamos 80 +11 = 91 b*= (91)\n",
    "Por ultimo multiplicamos b*= 91 (10*91)  =910\n",
    "El resultado es 910\n",
    "\n"
   ]
  },
  {
   "cell_type": "code",
   "execution_count": null,
   "id": "f7e10f0f",
   "metadata": {},
   "outputs": [],
   "source": [
    "class Main {\n",
    "    public static void main(String[] args) {\n",
    "    int x=10;\n",
    "    int b=10;\n",
    "  System.out.println(x = b *= 50 / 30 * ++x + 80 );\n",
    "    }\n",
    "}"
   ]
  },
  {
   "cell_type": "markdown",
   "id": "9e37e62c",
   "metadata": {},
   "source": [
    "### Expresion 8\n",
    "1. Primero se comienza creando las variables con las que vamos a reemplazar la expresion \n",
    "2. double c= ++x % 20.2 ; el resultado de esta operacion de modulo es 11\n",
    "3. double d= (x /= b) ; aqui  dividimos las dos variables (10/10) = 1\n",
    "4. double e=(--x); disminuimos en 1 la variable ya que tenemos los signos -- antes de esta = 9\n",
    " la expresion queda asi = (c == ((d) %= e))\n",
    "5. reemplazando los resultados (11 == ((1) %= 9))\n",
    "6. Comenzamos resolviendo 1 % 9 = 1\n",
    "7. despues igualamos los dos reultados 11 == 1 = false \n",
    "8. el resultado es \"false\""
   ]
  },
  {
   "cell_type": "code",
   "execution_count": null,
   "id": "914f3d1b",
   "metadata": {},
   "outputs": [],
   "source": [
    "class Main {\n",
    "    public static void main(String[] args) {\n",
    "        int x=10;\n",
    "        int b=10;\n",
    "        double c=++x % 20.2 ;\n",
    "        double d= (x /= b) ;\n",
    "        double e=(--x);\n",
    "        System.out.println((c == ((d) %= e)));\n",
    "    }\n",
    "}"
   ]
  },
  {
   "cell_type": "markdown",
   "id": "6535560b",
   "metadata": {},
   "source": [
    "### Expresion 9\n",
    "\n",
    "1. Al tener varias expresiones compuestas necesitamos reemplazar partes de la expresion con variables \n",
    "int c=1;\n",
    "double d= 3 % ++b; el resultado de esta operacion es 3\n",
    "2. Agregamos parentesis a la expresion = (c *= b++) * b-- / (d *= 10 + 1) y nos quedaria asi \n",
    "3. Empezamos realizando la operacion c *= b++ que da como resultado 12 \n",
    "4. despues se multitiplica 11*12 del reulstado anterior = 132\n",
    "5. Enseguida sumamos 10+ 1= 11 y lo multiplicamos por d en este caso \"3\"   11* 3 =33\n",
    "6. Por ultimo dividimos 132/33 = 4.0 \n",
    "7. El resultado es 4.0"
   ]
  },
  {
   "cell_type": "code",
   "execution_count": null,
   "id": "945759ce",
   "metadata": {},
   "outputs": [],
   "source": [
    "\n",
    "class Main {\n",
    "    public static void main(String[] args) {\n",
    "        int x=10;\n",
    "        int b=10;\n",
    "        int c=1;\n",
    "        double d= 3 % ++b;\n",
    "        System.out.println((c *= b++) * b-- / (d *= 10 + 1));\n",
    "    }\n",
    "}"
   ]
  }
 ],
 "metadata": {
  "kernelspec": {
   "display_name": "Python 3",
   "language": "python",
   "name": "python3"
  },
  "language_info": {
   "codemirror_mode": {
    "name": "ipython",
    "version": 3
   },
   "file_extension": ".py",
   "mimetype": "text/x-python",
   "name": "python",
   "nbconvert_exporter": "python",
   "pygments_lexer": "ipython3",
   "version": "3.12.3"
  }
 },
 "nbformat": 4,
 "nbformat_minor": 5
}
