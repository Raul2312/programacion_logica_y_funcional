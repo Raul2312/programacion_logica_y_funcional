{
 "cells": [
  {
   "cell_type": "markdown",
   "id": "f4315306",
   "metadata": {},
   "source": [
    "# Ejercicio 1\n",
    "Ejercicio 1 de evaluacion de expresiones en Phyton\n",
    "\n",
    "$ \\frac {\\pi ^ 2 }{6}= \\sum_{n-1}^{\\infty} \\frac{1}{n ^ 2} $"
   ]
  },
  {
   "cell_type": "code",
   "execution_count": 2,
   "id": "fa0c3c0e",
   "metadata": {},
   "outputs": [
    {
     "name": "stdout",
     "output_type": "stream",
     "text": [
      "Valor teorico: 1.6449340668482264, Aproximacion: 1.644433941827396\n",
      "ERROR: 0.0005001250208302999\n"
     ]
    }
   ],
   "source": [
    "import math\n",
    "res = math.pi**2 / 6\n",
    "res2=0\n",
    "for n in range (1,2000):\n",
    "    res2+=1/(n**2)\n",
    "print(f\"Valor teorico: {res}, Aproximacion: {res2}\")\n",
    "error= abs(res-res2)\n",
    "print(f\"ERROR: {error}\")"
   ]
  },
  {
   "cell_type": "markdown",
   "id": "e32430d3",
   "metadata": {},
   "source": [
    "### Expresion 1\n"
   ]
  },
  {
   "cell_type": "code",
   "execution_count": 6,
   "id": "04e8d69e",
   "metadata": {},
   "outputs": [
    {
     "name": "stdout",
     "output_type": "stream",
     "text": [
      "19\n"
     ]
    }
   ],
   "source": [
    "import math\n",
    "resultado = 3 + 4 * 2 ** 2\n",
    "print(resultado) #Cual crees que es el resultado ?"
   ]
  },
  {
   "cell_type": "markdown",
   "id": "345df34d",
   "metadata": {},
   "source": [
    "### Expresion 1 ejercicios\n",
    "\n",
    "\n",
    "-Ya que tenemos parentesis resolvemos la operacion dentro de los parentesis  primero y nos da 6\n",
    "-Despues ese resultado lo multiplicamos por 4"
   ]
  },
  {
   "cell_type": "code",
   "execution_count": 18,
   "id": "c596a1c7",
   "metadata": {},
   "outputs": [
    {
     "name": "stdout",
     "output_type": "stream",
     "text": [
      "20\n"
     ]
    }
   ],
   "source": [
    "import math\n",
    "resultado =(3 + 2) * 4 \n",
    "print(resultado)"
   ]
  },
  {
   "cell_type": "markdown",
   "id": "11efa46b",
   "metadata": {},
   "source": [
    "### Expresion 2\n",
    "-Al no tener parentesis se realiza primero la potencia  \" ** \" , 3 ** 2 = 9\n",
    "-Multiplicamos 2 por el resultado \" 2 * 9 = 18\n",
    "-El reultado es 18\n"
   ]
  },
  {
   "cell_type": "code",
   "execution_count": 23,
   "id": "55303ef8",
   "metadata": {},
   "outputs": [
    {
     "name": "stdout",
     "output_type": "stream",
     "text": [
      "18\n"
     ]
    }
   ],
   "source": [
    "import math\n",
    "resultado =  2 * 3 ** 2\n",
    "print(resultado)"
   ]
  },
  {
   "cell_type": "markdown",
   "id": "eac70635",
   "metadata": {},
   "source": [
    "### Expresion 3\n",
    "-Como no tenemos parentesis se realizan las operaciones de izquierda a derecha \n",
    "-Primero 10 // 3 , el resultado es 3.3333 pero como tenemos el signo \" // \" se redondea a 3 \n",
    "-Despues sumamos 3 + 2 \n",
    "-El resultado es 5"
   ]
  },
  {
   "cell_type": "code",
   "execution_count": 24,
   "id": "08fc4091",
   "metadata": {},
   "outputs": [
    {
     "name": "stdout",
     "output_type": "stream",
     "text": [
      "5\n"
     ]
    }
   ],
   "source": [
    "import math\n",
    "resultado =10 // 3 + 2\n",
    "print(resultado)"
   ]
  },
  {
   "cell_type": "markdown",
   "id": "d7d2f8c7",
   "metadata": {},
   "source": [
    "### Expresion 4\n",
    "-Como no tenemos parentesis se realizan las operaciones de izquierda a derecha \n",
    "-Primero realizamos la operacion de modulo que seria 17 % 5 que el signo \"%\" divide 17 / 5 = 3.4 pero no toma los decimales del resultafo lo cual seria 3\n",
    "-Despues el resultado de esa operacion se multiplica de nuevo por el segundo numero \"5\" que es igual a 15\n",
    "-Al primer numero se le resta el resultado de la operacion \"15\" lo que nos da = 2\n",
    "-Por ultimo se sigue con la multiplicacion 2 * 2 \n",
    "-El resultado es 4"
   ]
  },
  {
   "cell_type": "code",
   "execution_count": 26,
   "id": "13a21762",
   "metadata": {},
   "outputs": [
    {
     "name": "stdout",
     "output_type": "stream",
     "text": [
      "4\n"
     ]
    }
   ],
   "source": [
    "import math\n",
    "resultado =17 % 5 * 2\n",
    "print(resultado)"
   ]
  },
  {
   "cell_type": "markdown",
   "id": "ffd45576",
   "metadata": {},
   "source": [
    "### Expresion 5\n",
    "-Al no tener parentesis en el numero al que se quiere realizar la potencia se realiza la potencia primero\n",
    "-El numero 2 lo elevamos al cuadrado que seria 4\n",
    "-Despues solo se agrega el signo del elevado que seria -\n",
    "-El resultado es = -4 "
   ]
  },
  {
   "cell_type": "code",
   "execution_count": null,
   "id": "abe569b7",
   "metadata": {},
   "outputs": [
    {
     "name": "stdout",
     "output_type": "stream",
     "text": [
      "4\n"
     ]
    }
   ],
   "source": [
    "import math\n",
    "resultado =-2 ** 2\n",
    "print(resultado)"
   ]
  },
  {
   "cell_type": "markdown",
   "id": "bf29d821",
   "metadata": {},
   "source": [
    "### Expresion 6\n",
    "-Primero realizamos la potencia que seria 2 ** 2 da commo resultado = 4\n",
    "-Enseguida al ya no tener parentesis la siguiente operacion seria 4 * 4 = 16\n",
    "-Despues seria la division de 16 // 3 = 5.3333 pero al tener el signo // redondea a 5 \n",
    "-Por ultimo simamos 3 + 5 \n",
    "-El resultado es 8"
   ]
  },
  {
   "cell_type": "code",
   "execution_count": 27,
   "id": "41198a5f",
   "metadata": {},
   "outputs": [
    {
     "name": "stdout",
     "output_type": "stream",
     "text": [
      "8\n"
     ]
    }
   ],
   "source": [
    "import math\n",
    "resultado =3 + 4 * 2 ** 2 // 3\n",
    "print(resultado)"
   ]
  },
  {
   "cell_type": "markdown",
   "id": "abdf3499",
   "metadata": {},
   "source": [
    "### Expresion 7 \n",
    "-Al no tener parentesis se empieza verificando las condiciones de izquierda a derecha\n",
    "-3 < 4 al verificar esta condicion nos da \"true\"\n",
    "-Despues analaizamos la condicion de 4 < 5 que da tabien resultado \"true\"\n",
    "-EL resultado es true \n"
   ]
  },
  {
   "cell_type": "code",
   "execution_count": 5,
   "id": "7e857f79",
   "metadata": {},
   "outputs": [
    {
     "name": "stdout",
     "output_type": "stream",
     "text": [
      "True\n"
     ]
    }
   ],
   "source": [
    "import math\n",
    "resultado = 3 < 4 < 5\n",
    "print(resultado)"
   ]
  },
  {
   "cell_type": "markdown",
   "id": "d88cba7c",
   "metadata": {},
   "source": [
    "### Expresion \n",
    "-Primero se realiza la condicion de (3 > 2) que nos da de resultado true \n",
    "-Despues la comparacion de (5 < 10) que tambien nos da de resultado true \n",
    "-La condicion de and nos dice que las dos comparacion tienen que ser \"true\" \n",
    "-Al ser las dos comparaciones correctas nos da de reultado +\"true\""
   ]
  },
  {
   "cell_type": "code",
   "execution_count": 28,
   "id": "b399a5d4",
   "metadata": {},
   "outputs": [
    {
     "name": "stdout",
     "output_type": "stream",
     "text": [
      "True\n"
     ]
    }
   ],
   "source": [
    "import math\n",
    "resultado = (3 > 2) and (5 < 10) or False\n",
    "print(resultado)\n"
   ]
  },
  {
   "cell_type": "markdown",
   "id": "31432de4",
   "metadata": {},
   "source": [
    "### Expresion 9\n",
    "-Primero realizamos la operacion de suma de 3 + 1 = 4 y nos queda la siguiente expresion 5 & 4\n",
    "-El signo \"&\" convierte los dos numeros a binario  5= 0101 y 4=0100\n",
    "-Despues realiza una comparacion de cada bit  con la tabla de verdad de \"and\" donde 0101 y 0100 se convierten a = 0100\n",
    "-Por el ultimo este numero lo volvemos a convertir en decimal y da como resultado 4 \n"
   ]
  },
  {
   "cell_type": "code",
   "execution_count": 15,
   "id": "1bca88c4",
   "metadata": {},
   "outputs": [
    {
     "name": "stdout",
     "output_type": "stream",
     "text": [
      "4\n"
     ]
    }
   ],
   "source": [
    "import math\n",
    "resultado = 5 & 3 + 1\n",
    "print(resultado)"
   ]
  },
  {
   "cell_type": "markdown",
   "id": "e771ec35",
   "metadata": {},
   "source": [
    "### Expresion 10\n",
    "-Al tener parentesis la expresion estos se realizan primero (2+3)=5 \n",
    "-(5 % 3) en esta operacion ser realiza la division de los dos numero = 1.666 que redondea a 1 \n",
    "-Despues el resultado se multiplica por el segundo numero en este caso 3 = 3\n",
    "-Enseguida se resta el  resultado al primer numero lo que nos da 2\n",
    "-Despues de divide el 16 de la operacion de la potencia entre 2 lo que nos da 8\n",
    "-y por ultimo se multiplica el resultado del parentesis (2+3) * el 8 \n",
    "-El resultado es 40\n",
    "-Al tener cualquier numero de reultado la expresion arroja \"true\"\n",
    "\n"
   ]
  },
  {
   "cell_type": "code",
   "execution_count": 16,
   "id": "096443dd",
   "metadata": {},
   "outputs": [
    {
     "name": "stdout",
     "output_type": "stream",
     "text": [
      "True\n"
     ]
    }
   ],
   "source": [
    "import math\n",
    "resultado = (2 + 3) * 4 ** 2 // (5 % 3) and not False\n",
    "print(resultado)"
   ]
  },
  {
   "cell_type": "markdown",
   "id": "39ab20c6",
   "metadata": {},
   "source": [
    "### Expresion 11\n",
    "Expresión: expr11 = ((65 & 66) > 70) and not (65 ^ 66) == 0 \n",
    "1. Operadores que intervienen: - & → AND bit a bit - ^ → XOR bit a bit - > → comparación mayor que - == → comparación de igualdad - not → negación lógica - and → operador lógico AND\n",
    "2. Resolver (65 & 66): 65 = 1000001 (binario) 66 = 1000010 (binario) 1000001 & 1000010 = 1000000 (64 en decimal) \n",
    "3. Resolver (65 ^ 66): 65 = 1000001 66 = 1000010 1000001 ^ 1000010 = 0000011 (3 en decimal) \n",
    "4. Sustituir en la expresión: ((65 & 66) > 70) and not (65 ^ 66) == 0 → (64 > 70) and not (3 == 0) \n",
    "5. Resolver comparaciones: 64 > 70 → False 3 == 0 → False → False and not False \n",
    "6. Resolver not: not False → True → False and True 7. Evaluar and: False and True → False Resultado final: expr11 = False\n"
   ]
  },
  {
   "cell_type": "code",
   "execution_count": 29,
   "id": "e6ee1d86",
   "metadata": {},
   "outputs": [
    {
     "name": "stdout",
     "output_type": "stream",
     "text": [
      "False\n"
     ]
    }
   ],
   "source": [
    "import math\n",
    "resultado = ((65 & 66) > 70 ) and not (65 ^ 66) == 0\n",
    "print(resultado)"
   ]
  }
 ],
 "metadata": {
  "kernelspec": {
   "display_name": "Python 3",
   "language": "python",
   "name": "python3"
  },
  "language_info": {
   "codemirror_mode": {
    "name": "ipython",
    "version": 3
   },
   "file_extension": ".py",
   "mimetype": "text/x-python",
   "name": "python",
   "nbconvert_exporter": "python",
   "pygments_lexer": "ipython3",
   "version": "3.12.3"
  }
 },
 "nbformat": 4,
 "nbformat_minor": 5
}
