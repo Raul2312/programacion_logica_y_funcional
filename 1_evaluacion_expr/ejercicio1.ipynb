{
 "cells": [
  {
   "cell_type": "markdown",
   "id": "f4315306",
   "metadata": {},
   "source": [
    "# Ejercicio 1\n",
    "Ejercicio 1 de evaluacion de expresiones en Phyton\n",
    "\n",
    "$ \\frac {\\pi ^ 2 }{6}= \\sum_{n-1}^{\\infty} \\frac{1}{n ^ 2} $"
   ]
  },
  {
   "cell_type": "code",
   "execution_count": 10,
   "id": "fa0c3c0e",
   "metadata": {},
   "outputs": [
    {
     "name": "stdout",
     "output_type": "stream",
     "text": [
      "Valor teorico: 1.6449340668482264, Aproximacion: 1.644433941827396\n",
      "ERROR: 0.0005001250208302999\n"
     ]
    }
   ],
   "source": [
    "import math\n",
    "res = math.pi**2 / 6\n",
    "res2=0\n",
    "for n in range (1,2000):\n",
    "    res2+=1/(n**2)\n",
    "print(f\"Valor teorico: {res}, Aproximacion: {res2}\")\n",
    "error= abs(res-res2)\n",
    "print(f\"ERROR: {error}\")"
   ]
  }
 ],
 "metadata": {
  "kernelspec": {
   "display_name": "Python 3",
   "language": "python",
   "name": "python3"
  },
  "language_info": {
   "codemirror_mode": {
    "name": "ipython",
    "version": 3
   },
   "file_extension": ".py",
   "mimetype": "text/x-python",
   "name": "python",
   "nbconvert_exporter": "python",
   "pygments_lexer": "ipython3",
   "version": "3.12.3"
  }
 },
 "nbformat": 4,
 "nbformat_minor": 5
}
